{
  "nbformat": 4,
  "nbformat_minor": 0,
  "metadata": {
    "colab": {
      "name": "Copy of Amazon Web Scraper.ipynb",
      "provenance": []
    },
    "kernelspec": {
      "name": "python3",
      "display_name": "Python 3"
    },
    "language_info": {
      "name": "python"
    }
  },
  "cells": [
    {
      "cell_type": "markdown",
      "source": [
        "Import Libraries"
      ],
      "metadata": {
        "id": "I1KmWnUWCh7A"
      }
    },
    {
      "cell_type": "code",
      "execution_count": null,
      "metadata": {
        "id": "Z9sdKIpq6CkF"
      },
      "outputs": [],
      "source": [
        "from bs4 import BeautifulSoup\n",
        "import requests\n",
        "import smtplib\n",
        "import time\n",
        "import datetime\n",
        "import csv"
      ]
    },
    {
      "cell_type": "markdown",
      "source": [
        "Connection"
      ],
      "metadata": {
        "id": "p8CoT45L6v5w"
      }
    },
    {
      "cell_type": "code",
      "source": [
        "URL = 'https://www.amazon.pl/Data-Analyst-Notebook-Featuring-Chalkboard/dp/170586175X/ref=sr_1_6?__mk_pl_PL=%C3%85M%C3%85%C5%BD%C3%95%C3%91&crid=34I81ZGUFHGPG&keywords=data%2Banalyst&qid=1649601739&sprefix=data+analyst%2Caps%2C149&sr=8-6'\n",
        "\n",
        "headers = {\"User-Agent\": \"Mozilla/5.0 (Windows NT 10.0; Win64; x64) AppleWebKit/537.36 (KHTML, like Gecko) Chrome/78.0.3904.108 Safari/537.36\", \"Accept-Encoding\":\"gzip, deflate\", \"Accept\":\"text/html,application/xhtml+xml,application/xml;q=0.9,*/*;q=0.8\", \"DNT\":\"1\",\"Connection\":\"close\", \"Upgrade-Insecure-Requests\":\"1\"}"
      ],
      "metadata": {
        "id": "MtPPyJL36XJN"
      },
      "execution_count": null,
      "outputs": []
    },
    {
      "cell_type": "markdown",
      "source": [
        "Scrub Content"
      ],
      "metadata": {
        "id": "tJWzJKksHle5"
      }
    },
    {
      "cell_type": "code",
      "source": [
        "page = requests.get(URL, headers=headers)\n",
        "\n",
        "soup1 = BeautifulSoup(page.content, 'html.parser')\n",
        "\n",
        "soup2 = BeautifulSoup(soup1.prettify(), 'html.parser')"
      ],
      "metadata": {
        "id": "57-YXm5bHkrb"
      },
      "execution_count": null,
      "outputs": []
    },
    {
      "cell_type": "code",
      "source": [
        "title = soup2.find(id='productTitle').get_text().strip()\n",
        "price = soup2.find(id='price').get_text().strip().replace(',', '.')\n",
        "today = datetime.date.today()\n",
        "\n",
        "print(title, price, today)\n",
        "\n",
        "# Check dtype\n",
        "type(title)\n",
        "type(price)\n",
        "type(today)\n",
        "\n",
        "# Remove currency\n",
        "price = price[:5]"
      ],
      "metadata": {
        "colab": {
          "base_uri": "https://localhost:8080/"
        },
        "id": "6N8ZalxPCpKn",
        "outputId": "ce386304-5ebf-4ff1-8025-1dc7d7efbf47"
      },
      "execution_count": null,
      "outputs": [
        {
          "output_type": "stream",
          "name": "stdout",
          "text": [
            "Data Analyst: What I Think, What I Say: Gifts for Data Analyst - Funny Lined Notebook Journal Featuring a Black Chalkboard 30,58 zł Wydanie: Angielski\n",
            "   \n",
            "\n",
            "\n",
            "\n",
            "     Savvy Monkey Press\n",
            "    \n",
            "\n",
            "\n",
            "      (Autor) 2022-04-12\n"
          ]
        },
        {
          "output_type": "execute_result",
          "data": {
            "text/plain": [
              "datetime.date"
            ]
          },
          "metadata": {},
          "execution_count": 11
        }
      ]
    },
    {
      "cell_type": "markdown",
      "source": [
        "Create CSV & Write Data"
      ],
      "metadata": {
        "id": "lfJE9PRhDjtD"
      }
    },
    {
      "cell_type": "code",
      "source": [
        "header = ['Title', 'Price', 'Date']\n",
        "data = [title, price, today]\n",
        "'''\n",
        "with open('Amazon_webscraper_dataset.csv', 'w', newline='', encoding='UTF8') as f:\n",
        "  writer = csv.writer(f)\n",
        "  writer.writerow(header)\n",
        "  writer.writerow(data)\n",
        "'''  "
      ],
      "metadata": {
        "id": "HjU6iqoCCcl8"
      },
      "execution_count": null,
      "outputs": []
    },
    {
      "cell_type": "markdown",
      "source": [
        "Append CSV"
      ],
      "metadata": {
        "id": "aSgtsalyJ5ky"
      }
    },
    {
      "cell_type": "code",
      "source": [
        "with open('Amazon_webscraper_dataset.csv', 'a+', newline='', encoding='UTF8') as f:\n",
        "  writer = csv.writer(f)\n",
        "  writer.writerow(data)"
      ],
      "metadata": {
        "id": "GPeiTRWgJ7ex"
      },
      "execution_count": null,
      "outputs": []
    },
    {
      "cell_type": "markdown",
      "source": [
        "Read CSV"
      ],
      "metadata": {
        "id": "_biEs7AFHzxK"
      }
    },
    {
      "cell_type": "code",
      "source": [
        "import pandas as pd\n",
        "\n",
        "df = pd.read_csv(r'Amazon_webscraper_dataset.csv')\n",
        "\n",
        "print(df)"
      ],
      "metadata": {
        "colab": {
          "base_uri": "https://localhost:8080/"
        },
        "id": "blK3x5JBH1GI",
        "outputId": "7a4116d9-e9f2-4be3-8a9d-22739ccf5819"
      },
      "execution_count": null,
      "outputs": [
        {
          "output_type": "stream",
          "name": "stdout",
          "text": [
            "                                                Title     Price        Date\n",
            "0   Data Analyst: What I Think, What I Say: Gifts ...  30,58 zł  2022-04-12\n",
            "1   Data Analyst: What I Think, What I Say: Gifts ...  30,58 zł  2022-04-12\n",
            "2   Data Analyst: What I Think, What I Say: Gifts ...  30,58 zł  2022-04-12\n",
            "3   Data Analyst: What I Think, What I Say: Gifts ...  30,58 zł  2022-04-12\n",
            "4   Data Analyst: What I Think, What I Say: Gifts ...  30,58 zł  2022-04-12\n",
            "5   Data Analyst: What I Think, What I Say: Gifts ...  30,58 zł  2022-04-12\n",
            "6   Data Analyst: What I Think, What I Say: Gifts ...  30,58 zł  2022-04-12\n",
            "7   Data Analyst: What I Think, What I Say: Gifts ...  30,58 zł  2022-04-12\n",
            "8   Data Analyst: What I Think, What I Say: Gifts ...  30,58 zł  2022-04-12\n",
            "9   Data Analyst: What I Think, What I Say: Gifts ...  30,58 zł  2022-04-12\n",
            "10  Data Analyst: What I Think, What I Say: Gifts ...  30,58 zł  2022-04-12\n",
            "11  Data Analyst: What I Think, What I Say: Gifts ...  30,58 zł  2022-04-12\n",
            "12  Data Analyst: What I Think, What I Say: Gifts ...  30,58 zł  2022-04-12\n",
            "13  Data Analyst: What I Think, What I Say: Gifts ...  30,58 zł  2022-04-12\n",
            "14  Data Analyst: What I Think, What I Say: Gifts ...  30,58 zł  2022-04-12\n",
            "15  Data Analyst: What I Think, What I Say: Gifts ...  30,58 zł  2022-04-12\n",
            "16  Data Analyst: What I Think, What I Say: Gifts ...  30,58 zł  2022-04-12\n",
            "17  Data Analyst: What I Think, What I Say: Gifts ...  30,58 zł  2022-04-12\n",
            "18  Data Analyst: What I Think, What I Say: Gifts ...  30,58 zł  2022-04-12\n",
            "19  Data Analyst: What I Think, What I Say: Gifts ...  30,58 zł  2022-04-12\n",
            "20  Data Analyst: What I Think, What I Say: Gifts ...  30,58 zł  2022-04-12\n",
            "21  Data Analyst: What I Think, What I Say: Gifts ...  30,58 zł  2022-04-12\n",
            "22  Data Analyst: What I Think, What I Say: Gifts ...  30,58 zł  2022-04-12\n",
            "23  Data Analyst: What I Think, What I Say: Gifts ...  30,58 zł  2022-04-12\n",
            "24  Data Analyst: What I Think, What I Say: Gifts ...  30,58 zł  2022-04-12\n",
            "25  Data Analyst: What I Think, What I Say: Gifts ...  30,58 zł  2022-04-12\n",
            "26  Data Analyst: What I Think, What I Say: Gifts ...  30,58 zł  2022-04-12\n",
            "27  Data Analyst: What I Think, What I Say: Gifts ...  30,58 zł  2022-04-12\n"
          ]
        }
      ]
    },
    {
      "cell_type": "markdown",
      "source": [
        "Automate Checks (Combined)"
      ],
      "metadata": {
        "id": "FIVLeqMJLnaI"
      }
    },
    {
      "cell_type": "code",
      "source": [
        "from bs4 import BeautifulSoup\n",
        "import requests\n",
        "import smtplib\n",
        "import time\n",
        "import datetime\n",
        "import csv\n",
        "\n",
        "def notify():\n",
        "  server = smtplib.SMTP_SSL('smtp.gmail.com', 465)\n",
        "  server.ehlo()\n",
        "  server.login('FROM_EMAIL_ADDRESS', 'PASSWORD')\n",
        "  subject = ''\n",
        "  body = ''\n",
        "\n",
        "  msg = f\"Subject: {subject} \\n\\n {body}\"\n",
        "  server.sendmail('TO_EMAIL_ADDRESS', msg)\n",
        "\n",
        "def check_price():\n",
        "  URL = 'https://www.amazon.pl/Data-Analyst-Notebook-Featuring-Chalkboard/dp/170586175X/ref=sr_1_6?__mk_pl_PL=%C3%85M%C3%85%C5%BD%C3%95%C3%91&crid=34I81ZGUFHGPG&keywords=data%2Banalyst&qid=1649601739&sprefix=data+analyst%2Caps%2C149&sr=8-6'\n",
        "  headers = {\"User-Agent\": \"Mozilla/5.0 (Windows NT 10.0; Win64; x64) AppleWebKit/537.36 (KHTML, like Gecko) Chrome/78.0.3904.108 Safari/537.36\", \"Accept-Encoding\":\"gzip, deflate\", \"Accept\":\"text/html,application/xhtml+xml,application/xml;q=0.9,*/*;q=0.8\", \"DNT\":\"1\",\"Connection\":\"close\", \"Upgrade-Insecure-Requests\":\"1\"}\n",
        "  page = requests.get(URL, headers=headers)\n",
        "\n",
        "  soup1 = BeautifulSoup(page.content, 'html.parser')\n",
        "\n",
        "  soup2 = BeautifulSoup(soup1.prettify(), 'html.parser')\n",
        "\n",
        "  title = soup2.find(id='productTitle').get_text().strip()\n",
        "  price = soup2.find(id='price').get_text().strip().replace(',', '.')\n",
        "  today = datetime.date.today()\n",
        "\n",
        "  price = price[:5] # Remove Currency\n",
        "\n",
        "  print(title, price, today)\n",
        "\n",
        "  header = ['Title', 'Price', 'Date']\n",
        "  data = [title, price, today]\n",
        "\n",
        "  with open('Amazon_webscraper_dataset.csv', 'a+', newline='', encoding='UTF8') as f:\n",
        "    writer = csv.writer(f)\n",
        "    writer.writerow(data)\n",
        "\n",
        "  if(int(float(price)) < 15):\n",
        "    notify()  \n",
        "\n",
        "while(True):\n",
        "  check_price()\n",
        "  time.sleep(10)"
      ],
      "metadata": {
        "id": "vFeunpWrKFB_",
        "colab": {
          "base_uri": "https://localhost:8080/",
          "height": 262
        },
        "outputId": "1cf6cb31-460a-42c5-c865-1b0067aefb22"
      },
      "execution_count": 12,
      "outputs": [
        {
          "output_type": "stream",
          "name": "stdout",
          "text": [
            "Data Analyst: What I Think, What I Say: Gifts for Data Analyst - Funny Lined Notebook Journal Featuring a Black Chalkboard 30.56 2022-04-19\n",
            "Data Analyst: What I Think, What I Say: Gifts for Data Analyst - Funny Lined Notebook Journal Featuring a Black Chalkboard 30.56 2022-04-19\n",
            "Data Analyst: What I Think, What I Say: Gifts for Data Analyst - Funny Lined Notebook Journal Featuring a Black Chalkboard 30.56 2022-04-19\n"
          ]
        },
        {
          "output_type": "error",
          "ename": "KeyboardInterrupt",
          "evalue": "ignored",
          "traceback": [
            "\u001b[0;31m---------------------------------------------------------------------------\u001b[0m",
            "\u001b[0;31mKeyboardInterrupt\u001b[0m                         Traceback (most recent call last)",
            "\u001b[0;32m<ipython-input-12-7292a77dac3c>\u001b[0m in \u001b[0;36m<module>\u001b[0;34m()\u001b[0m\n\u001b[1;32m     45\u001b[0m \u001b[0;32mwhile\u001b[0m\u001b[0;34m(\u001b[0m\u001b[0;32mTrue\u001b[0m\u001b[0;34m)\u001b[0m\u001b[0;34m:\u001b[0m\u001b[0;34m\u001b[0m\u001b[0;34m\u001b[0m\u001b[0m\n\u001b[1;32m     46\u001b[0m   \u001b[0mcheck_price\u001b[0m\u001b[0;34m(\u001b[0m\u001b[0;34m)\u001b[0m\u001b[0;34m\u001b[0m\u001b[0;34m\u001b[0m\u001b[0m\n\u001b[0;32m---> 47\u001b[0;31m   \u001b[0mtime\u001b[0m\u001b[0;34m.\u001b[0m\u001b[0msleep\u001b[0m\u001b[0;34m(\u001b[0m\u001b[0;36m10\u001b[0m\u001b[0;34m)\u001b[0m\u001b[0;34m\u001b[0m\u001b[0;34m\u001b[0m\u001b[0m\n\u001b[0m",
            "\u001b[0;31mKeyboardInterrupt\u001b[0m: "
          ]
        }
      ]
    }
  ]
}